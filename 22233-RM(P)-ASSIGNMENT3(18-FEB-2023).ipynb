{
 "cells": [
  {
   "cell_type": "markdown",
   "id": "fefb5347",
   "metadata": {},
   "source": [
    "# Name: K Sai mathura krishnan\n",
    "\n",
    "# roll no: 22233\n",
    "\n",
    "# Assignment No : 3"
   ]
  },
  {
   "cell_type": "markdown",
   "id": "6cfbdd07",
   "metadata": {},
   "source": [
    "### Function Definition\n",
    "An R function is created by using the keyword function. The basic syntax of an R function definition is as follows −\n",
    "\n"
   ]
  },
  {
   "cell_type": "code",
   "execution_count": 8,
   "id": "f22068e8",
   "metadata": {
    "ExecuteTime": {
     "end_time": "2023-03-08T08:23:09.491286Z",
     "start_time": "2023-03-08T08:23:09.451Z"
    }
   },
   "outputs": [],
   "source": [
    "#function_name <- function(arg_1, arg_2, ...) {\n",
    "#  Function body \n",
    "#}"
   ]
  },
  {
   "cell_type": "markdown",
   "id": "af07cbb9",
   "metadata": {},
   "source": [
    "## Function Components\n",
    "The different parts of a function are −\n",
    "\n",
    "### Function Name − This is the actual name of the function. It is stored in R environment as an object with this name.\n",
    "\n",
    "#### Arguments − An argument is a placeholder. When a function is invoked, you pass a value to the argument. Arguments are optional; that is, a function may contain no arguments. Also arguments can have default values.\n",
    "\n",
    "#### Function Body − The function body contains a collection of statements that defines what the function does.\n",
    "\n",
    "##### Return Value − The return value of a function is the last expression in the function body to be evaluated.\n",
    "\n",
    "R has many in-built functions which can be directly called in the program without defining them first. We can also create and use our own functions referred as user defined functions."
   ]
  },
  {
   "cell_type": "markdown",
   "id": "299cf40f",
   "metadata": {},
   "source": [
    "Built-in Function\n",
    "Simple examples of in-built functions are seq(), mean(), max(), sum(x) and paste(...) etc. They are directly called by user written programs"
   ]
  },
  {
   "cell_type": "code",
   "execution_count": 2,
   "id": "246ab08e",
   "metadata": {
    "ExecuteTime": {
     "end_time": "2023-03-08T08:16:00.129529Z",
     "start_time": "2023-03-08T08:15:59.995Z"
    }
   },
   "outputs": [
    {
     "name": "stdout",
     "output_type": "stream",
     "text": [
      " [1] 32 33 34 35 36 37 38 39 40 41 42 43 44\n",
      "[1] 53.5\n",
      "[1] 1526\n"
     ]
    }
   ],
   "source": [
    "# Create a sequence of numbers from 32 to 44.\n",
    "print(seq(32,44))\n",
    "\n",
    "# Find mean of numbers from 25 to 82.\n",
    "print(mean(25:82))\n",
    "\n",
    "# Find sum of numbers frm 41 to 68.\n",
    "print(sum(41:68))"
   ]
  },
  {
   "cell_type": "markdown",
   "id": "3ddcbad5",
   "metadata": {
    "ExecuteTime": {
     "end_time": "2023-03-08T08:16:19.899692Z",
     "start_time": "2023-03-08T08:16:19.819Z"
    }
   },
   "source": [
    "User-defined Function: R language allow us to write our own function."
   ]
  },
  {
   "cell_type": "code",
   "execution_count": 4,
   "id": "1aa58702",
   "metadata": {
    "ExecuteTime": {
     "end_time": "2023-03-08T08:16:50.463783Z",
     "start_time": "2023-03-08T08:16:50.389Z"
    }
   },
   "outputs": [
    {
     "name": "stdout",
     "output_type": "stream",
     "text": [
      "[1] \"even\"\n",
      "[1] \"odd\"\n"
     ]
    }
   ],
   "source": [
    "# A simple R function to check\n",
    "# whether x is even or odd\n",
    " \n",
    "evenOdd = function(x){\n",
    "  if(x %% 2 == 0)\n",
    "    return(\"even\")\n",
    "  else\n",
    "    return(\"odd\")\n",
    "}\n",
    " \n",
    "print(evenOdd(4))\n",
    "print(evenOdd(3))"
   ]
  },
  {
   "cell_type": "markdown",
   "id": "5b634a84",
   "metadata": {},
   "source": [
    "Function Parameters\n",
    "Sometimes, they are called formal arguments. Function parameters are the variables in the function definition placed inside the parentheses and separated with a comma that will be set to actual values (called arguments) each time we call the function. For example:\n",
    "\n",
    "\n"
   ]
  },
  {
   "cell_type": "code",
   "execution_count": 5,
   "id": "3ce2c787",
   "metadata": {
    "ExecuteTime": {
     "end_time": "2023-03-08T08:17:27.730971Z",
     "start_time": "2023-03-08T08:17:27.658Z"
    }
   },
   "outputs": [
    {
     "name": "stdout",
     "output_type": "stream",
     "text": [
      "[1] 12.56637\n"
     ]
    }
   ],
   "source": [
    "circumference <- function(r){\n",
    "    2*pi*r\n",
    "}\n",
    "print(circumference(2))"
   ]
  },
  {
   "cell_type": "markdown",
   "id": "09b5f4fa",
   "metadata": {},
   "source": [
    "Function Body\n",
    "The function body is a set of commands inside the curly braces that are run in a predefined order every time we call the function. In other words, in the function body, we place what exactly we need the function to do:\n",
    "\n"
   ]
  },
  {
   "cell_type": "code",
   "execution_count": 6,
   "id": "e006a2c8",
   "metadata": {
    "ExecuteTime": {
     "end_time": "2023-03-08T08:17:59.114406Z",
     "start_time": "2023-03-08T08:17:59.060Z"
    }
   },
   "outputs": [
    {
     "name": "stdout",
     "output_type": "stream",
     "text": [
      "[1] 3\n"
     ]
    }
   ],
   "source": [
    "sum_two_nums <- function(x, y){\n",
    "    x + y\n",
    "}\n",
    "print(sum_two_nums(1, 2))"
   ]
  },
  {
   "cell_type": "markdown",
   "id": "6b5a0ed9",
   "metadata": {},
   "source": [
    "Using Functions Inside Other Functions\n",
    "Inside the definition of an R function, we can use other functions. We’ve already seen such an example earlier, \n",
    "when we used the built-in mean() and median() functions inside a user-defined function mean_median:"
   ]
  },
  {
   "cell_type": "code",
   "execution_count": 7,
   "id": "783f1f36",
   "metadata": {
    "ExecuteTime": {
     "end_time": "2023-03-08T08:18:36.927467Z",
     "start_time": "2023-03-08T08:18:36.860Z"
    }
   },
   "outputs": [
    {
     "name": "stdout",
     "output_type": "stream",
     "text": [
      "[1] 1.6 1.0\n"
     ]
    }
   ],
   "source": [
    "#to find mean and median of a given vector...\n",
    "mean_median <- function(vector){\n",
    "    mean <- mean(vector)\n",
    "    median <- median(vector)\n",
    "    return(c(mean, median))\n",
    "}\n",
    "print(mean_median(c(1, 1, 1, 2, 3)))"
   ]
  },
  {
   "cell_type": "code",
   "execution_count": null,
   "id": "7b47737e",
   "metadata": {},
   "outputs": [],
   "source": []
  }
 ],
 "metadata": {
  "kernelspec": {
   "display_name": "R",
   "language": "R",
   "name": "ir"
  },
  "language_info": {
   "codemirror_mode": "r",
   "file_extension": ".r",
   "mimetype": "text/x-r-source",
   "name": "R",
   "pygments_lexer": "r",
   "version": "4.2.2"
  },
  "toc": {
   "base_numbering": 1,
   "nav_menu": {},
   "number_sections": true,
   "sideBar": true,
   "skip_h1_title": false,
   "title_cell": "Table of Contents",
   "title_sidebar": "Contents",
   "toc_cell": false,
   "toc_position": {},
   "toc_section_display": true,
   "toc_window_display": false
  }
 },
 "nbformat": 4,
 "nbformat_minor": 5
}
