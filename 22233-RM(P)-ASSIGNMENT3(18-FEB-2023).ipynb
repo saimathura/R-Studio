{
 "cells": [
  {
   "cell_type": "markdown",
   "id": "9cd6aa8e",
   "metadata": {},
   "source": [
    "# Name: K Sai mathura krishnan\n",
    "\n",
    "# roll no: 22233\n",
    "\n",
    "# Assignment No : 3"
   ]
  },
  {
   "cell_type": "markdown",
   "id": "b7fbfa9c",
   "metadata": {},
   "source": [
    "### Function Definition\n",
    "An R function is created by using the keyword function. The basic syntax of an R function definition is as follows −\n",
    "\n"
   ]
  },
  {
   "cell_type": "code",
   "execution_count": 8,
   "id": "9ec9b90c",
   "metadata": {
    "ExecuteTime": {
     "end_time": "2023-03-08T08:23:09.491286Z",
     "start_time": "2023-03-08T08:23:09.451Z"
    }
   },
   "outputs": [],
   "source": [
    "#function_name <- function(arg_1, arg_2, ...) {\n",
    "#  Function body \n",
    "#}"
   ]
  },
  {
   "cell_type": "markdown",
   "id": "2c5fe4fc",
   "metadata": {},
   "source": [
    "## Function Components\n",
    "The different parts of a function are −\n",
    "\n",
    "### Function Name − This is the actual name of the function. It is stored in R environment as an object with this name.\n",
    "\n",
    "#### Arguments − An argument is a placeholder. When a function is invoked, you pass a value to the argument. Arguments are optional; that is, a function may contain no arguments. Also arguments can have default values.\n",
    "\n",
    "#### Function Body − The function body contains a collection of statements that defines what the function does.\n",
    "\n",
    "##### Return Value − The return value of a function is the last expression in the function body to be evaluated.\n",
    "\n",
    "R has many in-built functions which can be directly called in the program without defining them first. We can also create and use our own functions referred as user defined functions."
   ]
  },
  {
   "cell_type": "markdown",
   "id": "2edc2625",
   "metadata": {},
   "source": [
    "Built-in Function\n",
    "Simple examples of in-built functions are seq(), mean(), max(), sum(x) and paste(...) etc. They are directly called by user written programs"
   ]
  },
  {
   "cell_type": "code",
   "execution_count": 2,
   "id": "7eb88b3c",
   "metadata": {
    "ExecuteTime": {
     "end_time": "2023-03-08T08:16:00.129529Z",
     "start_time": "2023-03-08T08:15:59.995Z"
    }
   },
   "outputs": [
    {
     "name": "stdout",
     "output_type": "stream",
     "text": [
      " [1] 32 33 34 35 36 37 38 39 40 41 42 43 44\n",
      "[1] 53.5\n",
      "[1] 1526\n"
     ]
    }
   ],
   "source": [
    "# Create a sequence of numbers from 32 to 44.\n",
    "print(seq(32,44))\n",
    "\n",
    "# Find mean of numbers from 25 to 82.\n",
    "print(mean(25:82))\n",
    "\n",
    "# Find sum of numbers frm 41 to 68.\n",
    "print(sum(41:68))"
   ]
  },
  {
   "cell_type": "markdown",
   "id": "05ad2359",
   "metadata": {
    "ExecuteTime": {
     "end_time": "2023-03-08T08:16:19.899692Z",
     "start_time": "2023-03-08T08:16:19.819Z"
    }
   },
   "source": [
    "User-defined Function: R language allow us to write our own function."
   ]
  },
  {
   "cell_type": "code",
   "execution_count": 4,
   "id": "8b9fbd16",
   "metadata": {
    "ExecuteTime": {
     "end_time": "2023-03-08T08:16:50.463783Z",
     "start_time": "2023-03-08T08:16:50.389Z"
    }
   },
   "outputs": [
    {
     "name": "stdout",
     "output_type": "stream",
     "text": [
      "[1] \"even\"\n",
      "[1] \"odd\"\n"
     ]
    }
   ],
   "source": [
    "# A simple R function to check\n",
    "# whether x is even or odd\n",
    " \n",
    "evenOdd = function(x){\n",
    "  if(x %% 2 == 0)\n",
    "    return(\"even\")\n",
    "  else\n",
    "    return(\"odd\")\n",
    "}\n",
    " \n",
    "print(evenOdd(4))\n",
    "print(evenOdd(3))"
   ]
  },
  {
   "cell_type": "markdown",
   "id": "4af24841",
   "metadata": {},
   "source": [
    "Function Parameters\n",
    "Sometimes, they are called formal arguments. Function parameters are the variables in the function definition placed inside the parentheses and separated with a comma that will be set to actual values (called arguments) each time we call the function. For example:\n",
    "\n",
    "\n"
   ]
  },
  {
   "cell_type": "code",
   "execution_count": 5,
   "id": "6cbb161c",
   "metadata": {
    "ExecuteTime": {
     "end_time": "2023-03-08T08:17:27.730971Z",
     "start_time": "2023-03-08T08:17:27.658Z"
    }
   },
   "outputs": [
    {
     "name": "stdout",
     "output_type": "stream",
     "text": [
      "[1] 12.56637\n"
     ]
    }
   ],
   "source": [
    "circumference <- function(r){\n",
    "    2*pi*r\n",
    "}\n",
    "print(circumference(2))"
   ]
  },
  {
   "cell_type": "markdown",
   "id": "9ea0d23e",
   "metadata": {},
   "source": [
    "Function Body\n",
    "The function body is a set of commands inside the curly braces that are run in a predefined order every time we call the function. In other words, in the function body, we place what exactly we need the function to do:\n",
    "\n"
   ]
  },
  {
   "cell_type": "code",
   "execution_count": 6,
   "id": "b36a5976",
   "metadata": {
    "ExecuteTime": {
     "end_time": "2023-03-08T08:17:59.114406Z",
     "start_time": "2023-03-08T08:17:59.060Z"
    }
   },
   "outputs": [
    {
     "name": "stdout",
     "output_type": "stream",
     "text": [
      "[1] 3\n"
     ]
    }
   ],
   "source": [
    "sum_two_nums <- function(x, y){\n",
    "    x + y\n",
    "}\n",
    "print(sum_two_nums(1, 2))"
   ]
  },
  {
   "cell_type": "markdown",
   "id": "66a9488b",
   "metadata": {},
   "source": [
    "Using Functions Inside Other Functions\n",
    "Inside the definition of an R function, we can use other functions. We’ve already seen such an example earlier, \n",
    "when we used the built-in mean() and median() functions inside a user-defined function mean_median:"
   ]
  },
  {
   "cell_type": "code",
   "execution_count": 7,
   "id": "f881b8f3",
   "metadata": {
    "ExecuteTime": {
     "end_time": "2023-03-08T08:18:36.927467Z",
     "start_time": "2023-03-08T08:18:36.860Z"
    }
   },
   "outputs": [
    {
     "name": "stdout",
     "output_type": "stream",
     "text": [
      "[1] 1.6 1.0\n"
     ]
    }
   ],
   "source": [
    "#to find mean and median of a given vector...\n",
    "mean_median <- function(vector){\n",
    "    mean <- mean(vector)\n",
    "    median <- median(vector)\n",
    "    return(c(mean, median))\n",
    "}\n",
    "print(mean_median(c(1, 1, 1, 2, 3)))"
   ]
  },
  {
   "cell_type": "markdown",
   "id": "7b57354d",
   "metadata": {},
   "source": [
    "Calling a Function in R\n",
    "In all the above examples, we actually already called the created functions many times. To do so, we just put the function name and added the necessary arguments inside the parenthesis. In R, function arguments can be passed by position, by name (so-called named arguments), by mixing position-based and name-based matching, or by omitting the arguments at all.\n",
    "\n",
    "If we pass the arguments by position, we need to follow the same sequence of arguments as defined in the function:\n",
    "\n"
   ]
  },
  {
   "cell_type": "code",
   "execution_count": 9,
   "id": "32e760ab",
   "metadata": {
    "ExecuteTime": {
     "end_time": "2023-03-08T08:26:27.920404Z",
     "start_time": "2023-03-08T08:26:27.869Z"
    }
   },
   "outputs": [
    {
     "name": "stdout",
     "output_type": "stream",
     "text": [
      "[1] 2\n"
     ]
    }
   ],
   "source": [
    "subtract_two_nums <- function(x, y){\n",
    "    x - y\n",
    "}\n",
    "print(subtract_two_nums(3, 1))"
   ]
  },
  {
   "cell_type": "code",
   "execution_count": 10,
   "id": "31d76d7a",
   "metadata": {
    "ExecuteTime": {
     "end_time": "2023-03-08T08:26:47.415210Z",
     "start_time": "2023-03-08T08:26:47.356Z"
    }
   },
   "outputs": [
    {
     "name": "stdout",
     "output_type": "stream",
     "text": [
      "[1] 2\n",
      "[1] 2\n"
     ]
    }
   ],
   "source": [
    "subtract_two_nums <- function(x, y){\n",
    "    x - y\n",
    "}\n",
    "print(subtract_two_nums(x=3, y=1))\n",
    "print(subtract_two_nums(y=1, x=3))"
   ]
  },
  {
   "cell_type": "markdown",
   "id": "d80436f4",
   "metadata": {
    "ExecuteTime": {
     "end_time": "2023-03-08T08:27:30.334372Z",
     "start_time": "2023-03-08T08:27:30.291Z"
    }
   },
   "source": [
    "### Using function inside a function..."
   ]
  },
  {
   "cell_type": "code",
   "execution_count": 12,
   "id": "4b131816",
   "metadata": {
    "ExecuteTime": {
     "end_time": "2023-03-08T08:27:38.128799Z",
     "start_time": "2023-03-08T08:27:38.068Z"
    }
   },
   "outputs": [
    {
     "name": "stdout",
     "output_type": "stream",
     "text": [
      "[1] 12.56637\n"
     ]
    }
   ],
   "source": [
    "radius_from_diameter <- function(d){\n",
    "    d/2\n",
    "}\n",
    "\n",
    "circumference <- function(r){\n",
    "    2*pi*r\n",
    "}\n",
    "\n",
    "print(circumference(radius_from_diameter(4)))"
   ]
  },
  {
   "cell_type": "code",
   "execution_count": 13,
   "id": "af195445",
   "metadata": {
    "ExecuteTime": {
     "end_time": "2023-03-08T08:27:51.046967Z",
     "start_time": "2023-03-08T08:27:50.995Z"
    }
   },
   "outputs": [
    {
     "name": "stdout",
     "output_type": "stream",
     "text": [
      "[1] 43.9823\n"
     ]
    }
   ],
   "source": [
    "sum_circle_ares <- function(r1, r2, r3){\n",
    "    circle_area <- function(r){\n",
    "        pi*r^2\n",
    "    }\n",
    "    circle_area(r1) + circle_area(r2) + circle_area(r3)\n",
    "}\n",
    "\n",
    "print(sum_circle_ares(1, 2, 3))"
   ]
  },
  {
   "cell_type": "code",
   "execution_count": 14,
   "id": "e29d6e66",
   "metadata": {
    "ExecuteTime": {
     "end_time": "2023-03-08T08:28:12.427544Z",
     "start_time": "2023-03-08T08:28:12.323Z"
    }
   },
   "outputs": [
    {
     "name": "stdout",
     "output_type": "stream",
     "text": [
      "[1] 43.9823\n",
      "[1] 314.1593\n"
     ]
    }
   ],
   "source": [
    "circle_area <- function(r){\n",
    "    pi*r^2\n",
    "}\n",
    "\n",
    "sum_circle_ares <- function(r1, r2, r3){\n",
    "    circle_area(r1) + circle_area(r2) + circle_area(r3)\n",
    "}\n",
    "\n",
    "print(sum_circle_ares(1, 2, 3))\n",
    "print(circle_area(10))"
   ]
  }
 ],
 "metadata": {
  "kernelspec": {
   "display_name": "R",
   "language": "R",
   "name": "ir"
  },
  "language_info": {
   "codemirror_mode": "r",
   "file_extension": ".r",
   "mimetype": "text/x-r-source",
   "name": "R",
   "pygments_lexer": "r",
   "version": "4.2.2"
  },
  "toc": {
   "base_numbering": 1,
   "nav_menu": {},
   "number_sections": true,
   "sideBar": true,
   "skip_h1_title": false,
   "title_cell": "Table of Contents",
   "title_sidebar": "Contents",
   "toc_cell": false,
   "toc_position": {},
   "toc_section_display": true,
   "toc_window_display": false
  }
 },
 "nbformat": 4,
 "nbformat_minor": 5
}
